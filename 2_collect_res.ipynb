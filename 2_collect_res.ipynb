{
 "cells": [
  {
   "cell_type": "code",
   "execution_count": 1,
   "id": "194b2a31-9f71-4f2a-a06e-5a6b07fdfbda",
   "metadata": {},
   "outputs": [],
   "source": [
    "import os\n",
    "\n",
    "# res_fold = 'result_txts/'\n",
    "res_fold = 'result_txts_andre/'\n",
    "\n",
    "j_to_res = {}\n",
    "j_to_name = {}\n",
    "for file in os.listdir(res_fold):\n",
    "    with open(os.path.join(res_fold, file)) as fh:\n",
    "        res = [float(l) for l in fh.readlines()]\n",
    "\n",
    "    j = int(file.split('_')[-1].split('=')[-1].split('.')[0])\n",
    "    j_to_res[j] = res\n",
    "    j_to_name[j] = '_'.join(file.split('.')[0].split('_')[:-1])"
   ]
  },
  {
   "cell_type": "code",
   "execution_count": 6,
   "id": "5785e1d8-9711-4906-8d7e-9c8235e3c3f7",
   "metadata": {},
   "outputs": [],
   "source": [
    "outfile = 'results_hologolf_andre.csv'\n",
    "\n",
    "with open(outfile, 'w') as fh:\n",
    "    for j in sorted(j_to_res.keys()):\n",
    "        name = j_to_name[j]\n",
    "        res = j_to_res[j]\n",
    "        \n",
    "        subj = name.split('_')[0]\n",
    "        cond = name.split('-')[-1][-1:]\n",
    "        fh.write('%d,%s,%s,%s,%s\\n'%(j, name, subj, cond,','.join([str(r) for r in res])))"
   ]
  },
  {
   "cell_type": "code",
   "execution_count": null,
   "id": "2811aac5-7c64-48fe-9cd5-c8b29404601c",
   "metadata": {},
   "outputs": [],
   "source": []
  }
 ],
 "metadata": {
  "kernelspec": {
   "display_name": "env",
   "language": "python",
   "name": "env"
  },
  "language_info": {
   "codemirror_mode": {
    "name": "ipython",
    "version": 3
   },
   "file_extension": ".py",
   "mimetype": "text/x-python",
   "name": "python",
   "nbconvert_exporter": "python",
   "pygments_lexer": "ipython3",
   "version": "3.6.9"
  }
 },
 "nbformat": 4,
 "nbformat_minor": 5
}
